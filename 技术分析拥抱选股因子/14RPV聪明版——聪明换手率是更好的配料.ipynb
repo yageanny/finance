{
 "cells": [
  {
   "cell_type": "code",
   "execution_count": 1,
   "id": "5926b62d-9879-4f4e-8752-6b8d4ddde557",
   "metadata": {},
   "outputs": [],
   "source": [
    "import os\n",
    "import numpy as np\n",
    "import pandas as pd\n",
    "from numba import jit\n",
    "from tqdm import tqdm\n",
    "import statsmodels.api as sm\n",
    "import sys\n",
    "sys.path.append('D:\\实习\\研报复现\\QuantDev\\ymtool')\n",
    "import Alpha as alpha\n",
    "\n",
    "import warnings\n",
    "warnings.filterwarnings('ignore')"
   ]
  },
  {
   "cell_type": "markdown",
   "id": "b45db498-2a74-46ca-be09-e2862071c594",
   "metadata": {
    "jp-MarkdownHeadingCollapsed": true
   },
   "source": [
    "# pmCO_pmSV"
   ]
  },
  {
   "cell_type": "code",
   "execution_count": 23,
   "id": "94c6ebce-bf7c-4995-804f-2bea9276a420",
   "metadata": {},
   "outputs": [
    {
     "name": "stderr",
     "output_type": "stream",
     "text": [
      "100%|██████████████████████████████████████████████████████████████████████████████| 2512/2512 [32:20<00:00,  1.29it/s]\n",
      "100%|██████████████████████████████████████████████████████████████████████████████| 2473/2473 [00:38<00:00, 63.89it/s]\n"
     ]
    }
   ],
   "source": [
    "data = os.listdir(r\"D:\\实习\\研报复现\\dataAll\\stockMinData\\close\")\n",
    "freeshare = alpha.load_data('pv\\\\stock_shareout')\n",
    "sv = []\n",
    "co = []\n",
    "\n",
    "for date in tqdm(data):\n",
    "    volume_path = os.path.join(r\"D:\\实习\\研报复现\\dataAll\\stockMinData\\volume\",date)\n",
    "    open_path = os.path.join(r\"D:\\实习\\研报复现\\dataAll\\stockMinData\\open\",date)\n",
    "    close_path = os.path.join(r\"D:\\实习\\研报复现\\dataAll\\stockMinData\\close\",date)\n",
    "    date = pd.to_datetime(date.split('.')[0],format='%Y%m%d')\n",
    "    volume = pd.read_parquet(volume_path).loc[130000:]\n",
    "    opn = pd.read_parquet(open_path).loc[130000:]\n",
    "    close = pd.read_parquet(close_path).loc[130000:]\n",
    "    code = close.columns\n",
    "\n",
    "    pmCO = np.subtract(close.iloc[-1],opn.iloc[0])\n",
    "    pmCO.name = date\n",
    "    smart_t = (abs(np.divide(close,opn)-1)/np.sqrt(volume)).rank(axis=0,pct=True,ascending=False)\n",
    "    pmSV = np.nansum(np.where(smart_t<=0.2, volume, np.nan),axis=0)\n",
    "    pmSV = pd.Series(pmSV,index=code,name=date)\n",
    "    \n",
    "    sv.append(pmSV)\n",
    "    co.append(pmCO)\n",
    "\n",
    "pmSV = pd.concat(sv,axis=1).T\n",
    "pmCO = pd.concat(co,axis=1).T\n",
    "\n",
    "pmSV = pmSV.div(freeshare,axis=0).dropna(axis=0,how='all')\n",
    "\n",
    "pmCO_pmSV = alpha.mvind_neutral(pmSV.rolling(20).corr(pmCO.loc[pmSV.index]).iloc[19:].dropna(axis=0,how='all'))"
   ]
  },
  {
   "cell_type": "markdown",
   "id": "80401aa6-350e-4ade-9ffc-75891be0919e",
   "metadata": {
    "jp-MarkdownHeadingCollapsed": true
   },
   "source": [
    "# SCOV"
   ]
  },
  {
   "cell_type": "code",
   "execution_count": 12,
   "id": "8ea2601e-690b-418a-8aca-a47d4d803bc8",
   "metadata": {},
   "outputs": [
    {
     "name": "stderr",
     "output_type": "stream",
     "text": [
      "100%|██████████████████████████████████████████████████████████████████████████████| 2512/2512 [09:29<00:00,  4.41it/s]\n",
      "100%|██████████████████████████████████████████████████████████████████████████████| 2472/2472 [00:38<00:00, 63.41it/s]\n"
     ]
    }
   ],
   "source": [
    "data = os.listdir(r\"D:\\实习\\研报复现\\dataAll\\stockMinData\\volume\")\n",
    "freeshare = alpha.load_data('pv\\\\stock_shareout')\n",
    "res = []\n",
    "for date in tqdm(data):\n",
    "    volume_path = os.path.join(r\"D:\\实习\\研报复现\\dataAll\\stockMinData\\volume\",date)\n",
    "    date = pd.to_datetime(date.split('.')[0],format='%Y%m%d')\n",
    "    volume = pd.read_parquet(volume_path).loc[143000:].sum()\n",
    "    \n",
    "    res.append(volume)\n",
    "Y1430V = pd.concat(res,axis=1).T\n",
    "Y1430V.index = [pd.to_datetime(date.split('.')[0],format='%Y%m%d') for date in data]\n",
    "Y1430V = Y1430V.div(freeshare,axis=0).shift(1).dropna(axis=0,how='all')\n",
    "\n",
    "close = alpha.load_data('pv\\\\stock_close')\n",
    "opn = alpha.load_data('pv\\\\stock_open')\n",
    "OYC = opn.sub(close.shift(1))\n",
    "\n",
    "SCOV = alpha.mvind_neutral(OYC.rolling(20).corr(Y1430V).iloc[19:].dropna(axis=0,how='all'))"
   ]
  },
  {
   "cell_type": "markdown",
   "id": "8795fcfb-56a1-4b3f-856c-c1ce0b486f9e",
   "metadata": {
    "jp-MarkdownHeadingCollapsed": true
   },
   "source": [
    "# SCOV"
   ]
  },
  {
   "cell_type": "code",
   "execution_count": 24,
   "id": "549bab01-1665-4438-80b4-bfaebd7b74ae",
   "metadata": {},
   "outputs": [],
   "source": [
    "SRV = (alpha.zscore(pmCO_pmSV)-alpha.zscore(SCOV)).dropna(axis=0,how='all')"
   ]
  },
  {
   "cell_type": "code",
   "execution_count": 25,
   "id": "bc01f965-379c-42b0-82f2-1d44c40f3617",
   "metadata": {},
   "outputs": [],
   "source": [
    "alpha.to_fctDataBase(SRV.dropna(axis=0,how='all'),'SRV')"
   ]
  },
  {
   "cell_type": "code",
   "execution_count": 27,
   "id": "0cddd462-ac84-47d9-a399-4339a7feb9be",
   "metadata": {},
   "outputs": [
    {
     "name": "stdout",
     "output_type": "stream",
     "text": [
      "开始计算Barra相关性\n",
      "开始计算RankIC\n",
      "清除ST\n",
      "清除涨跌停\n",
      "获取交易面板完成\n",
      "开始分层回测...\n",
      "开始计算分层超额...\n",
      "结果已经存入D:\\实习\\研报复现\\QuantResearch\\alpha_result\\report\\SRV_W.xlsx\n"
     ]
    }
   ],
   "source": [
    "alpha.Alpha(SRV, 'SRV', verbose=True, freq='W', layer=10, rolling_ic=True).main()"
   ]
  },
  {
   "cell_type": "code",
   "execution_count": null,
   "id": "897d5bc3-c898-4c1f-b4b2-027c94c4d46b",
   "metadata": {},
   "outputs": [],
   "source": []
  }
 ],
 "metadata": {
  "kernelspec": {
   "display_name": "Python 3 (ipykernel)",
   "language": "python",
   "name": "python3"
  },
  "language_info": {
   "codemirror_mode": {
    "name": "ipython",
    "version": 3
   },
   "file_extension": ".py",
   "mimetype": "text/x-python",
   "name": "python",
   "nbconvert_exporter": "python",
   "pygments_lexer": "ipython3",
   "version": "3.11.7"
  }
 },
 "nbformat": 4,
 "nbformat_minor": 5
}
