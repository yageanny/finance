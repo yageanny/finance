{
 "cells": [
  {
   "cell_type": "code",
   "execution_count": 1,
   "id": "71300fdc-798e-43be-b80f-9caf2656b925",
   "metadata": {
    "tags": []
   },
   "outputs": [],
   "source": [
    "import os\n",
    "import numpy as np\n",
    "import pandas as pd\n",
    "from numba import jit\n",
    "from tqdm import tqdm\n",
    "import statsmodels.api as sm\n",
    "import sys\n",
    "sys.path.append('D:\\实习\\研报复现\\QuantDev\\ymtool')\n",
    "import Alpha as alpha\n",
    "\n",
    "import warnings\n",
    "warnings.filterwarnings('ignore')"
   ]
  },
  {
   "cell_type": "markdown",
   "id": "135fc665-2208-43fa-9c4d-d9bb77c0d2b4",
   "metadata": {
    "jp-MarkdownHeadingCollapsed": true,
    "tags": []
   },
   "source": [
    "# CDPP"
   ]
  },
  {
   "cell_type": "code",
   "execution_count": 2,
   "id": "f3c8656a-9858-4140-be3e-f0e4ce117ad4",
   "metadata": {},
   "outputs": [
    {
     "name": "stderr",
     "output_type": "stream",
     "text": [
      "100%|██████████████████████████████████████████████████████████████████████████████| 2512/2512 [13:40<00:00,  3.06it/s]\n"
     ]
    }
   ],
   "source": [
    "def cdpp_func(date):\n",
    "    close_path = os.path.join(r\"D:\\实习\\研报复现\\dataAll\\stockMinData\\close\",date)\n",
    "    date = pd.to_datetime(date.split('.')[0],format='%Y%m%d')\n",
    "    close = pd.read_parquet(close_path)\n",
    "    code = close.columns\n",
    "    close = close.values\n",
    "    \n",
    "    dp = np.diff(close,axis=0)[:-1]\n",
    "    \n",
    "    # CDPP_pos\n",
    "    dp_pos = np.where(dp>0,dp,np.nan)\n",
    "    p_pos = np.where(dp>0,close[2:],np.nan)\n",
    "    cov = np.nanmean((p_pos-np.nanmean(p_pos,axis=0))*(dp_pos-np.nanmean(dp_pos,axis=0)),axis=0)\n",
    "    cdpp_pos = cov/np.nanstd(p_pos,axis=0)/np.nanstd(dp_pos,axis=0)\n",
    "\n",
    "    # CDPP_neg\n",
    "    dp_neg = np.where(dp<0,dp,np.nan)\n",
    "    p_neg = np.where(dp<0,close[2:],np.nan)\n",
    "    cov = np.nanmean((p_neg-np.nanmean(p_neg,axis=0))*(dp_neg-np.nanmean(dp_neg,axis=0)),axis=0)\n",
    "    cdpp_neg = cov/np.nanstd(p_neg,axis=0)/np.nanstd(dp_neg,axis=0)\n",
    "    \n",
    "    cdpp_pos = pd.Series(cdpp_pos,index=code, name=date)\n",
    "    cdpp_neg = pd.Series(cdpp_neg,index=code, name=date)\n",
    "    \n",
    "    return cdpp_pos,cdpp_neg\n",
    "    \n",
    "data = os.listdir(r\"D:\\实习\\研报复现\\dataAll\\stockMinData\\close\")\n",
    "\n",
    "CDPP_POS = []\n",
    "CDPP_NEG = []\n",
    "\n",
    "for i in tqdm(data):\n",
    "    \n",
    "    cdpp_pos,cdpp_neg = cdpp_func(date=i)\n",
    "    CDPP_POS.append(cdpp_pos)\n",
    "    CDPP_NEG.append(cdpp_neg)\n",
    "    \n",
    "CDPP_POS = pd.concat(CDPP_POS, axis=1).T\n",
    "CDPP_NEG = pd.concat(CDPP_NEG, axis=1).T"
   ]
  },
  {
   "cell_type": "code",
   "execution_count": 7,
   "id": "0aef2fc1-1877-4be0-97bf-419bf53ad9d9",
   "metadata": {
    "tags": []
   },
   "outputs": [
    {
     "name": "stderr",
     "output_type": "stream",
     "text": [
      "100%|██████████████████████████████████████████████████████████████████████████████| 2473/2473 [00:42<00:00, 57.90it/s]\n",
      "100%|██████████████████████████████████████████████████████████████████████████████| 2473/2473 [00:40<00:00, 60.76it/s]\n"
     ]
    }
   ],
   "source": [
    "dP_pos_P_Corr = alpha.mvind_neutral(CDPP_POS.rolling(20,min_periods=1).mean().dropna(axis=0,how='all').iloc[19:].loc[:'2024-03'])\n",
    "dP_neg_P_Corr =alpha.mvind_neutral(CDPP_NEG.rolling(20,min_periods=1).mean().dropna(axis=0,how='all').iloc[19:].loc[:'2024-03'])\n",
    "\n",
    "CDPP = alpha.zscore(dP_pos_P_Corr)-alpha.zscore(dP_neg_P_Corr)"
   ]
  },
  {
   "cell_type": "code",
   "execution_count": 9,
   "id": "bfc973d5-0366-4c6b-a381-1b1c566fe295",
   "metadata": {},
   "outputs": [],
   "source": [
    "alpha.to_fctDataBase(CDPP.dropna(axis=0,how='all'),'CDPP')"
   ]
  },
  {
   "cell_type": "markdown",
   "id": "ad60c559-c942-41c1-8956-ada47801eaa0",
   "metadata": {
    "tags": []
   },
   "source": [
    "# CDCDP"
   ]
  },
  {
   "cell_type": "code",
   "execution_count": 3,
   "id": "67a59653-72fb-4ea4-8d30-5dad0f7cafdd",
   "metadata": {},
   "outputs": [
    {
     "name": "stderr",
     "output_type": "stream",
     "text": [
      "100%|██████████████████████████████████████████████████████████████████████████████| 2512/2512 [12:13<00:00,  3.43it/s]\n"
     ]
    }
   ],
   "source": [
    "def cdpdp_func(date):\n",
    "    close_path = os.path.join(r\"D:\\实习\\研报复现\\dataAll\\stockMinData\\close\",date)\n",
    "    date = pd.to_datetime(date.split('.')[0],format='%Y%m%d')\n",
    "    close = pd.read_parquet(close_path)\n",
    "    code = close.columns\n",
    "    close = close.values\n",
    "    \n",
    "    dp_t = np.diff(close,axis=0)[:-1]\n",
    "    dp_t_1 = np.diff(close,axis=0)[1:]\n",
    "    # dpdp_pos\n",
    "    dp_t_pos = np.where(np.logical_and(dp_t > 0, dp_t_1 > 0), dp_t, np.nan)\n",
    "    dp_t_1_pos = np.where(np.logical_and(dp_t > 0, dp_t_1 > 0), dp_t_1, np.nan)\n",
    "    cov = np.nanmean((dp_t_pos-np.nanmean(dp_t_pos,axis=0))*(dp_t_1_pos-np.nanmean(dp_t_1_pos,axis=0)),axis=0)\n",
    "    dpdp_pos = cov/np.nanstd(dp_t_pos,axis=0)/np.nanstd(dp_t_1_pos,axis=0)\n",
    "\n",
    "    # dpdp_neg\n",
    "    dp_t_neg = np.where(np.logical_and(dp_t < 0, dp_t_1 < 0), dp_t, np.nan)\n",
    "    dp_t_1_neg = np.where(np.logical_and(dp_t < 0, dp_t_1 < 0), dp_t_1, np.nan)\n",
    "    cov = np.nanmean((dp_t_neg-np.nanmean(dp_t_neg,axis=0))*(dp_t_1_neg-np.nanmean(dp_t_1_neg,axis=0)),axis=0)\n",
    "    dpdp_neg = cov/np.nanstd(dp_t_neg,axis=0)/np.nanstd(dp_t_1_neg,axis=0)\n",
    "    \n",
    "    dpdp_pos = pd.Series(dpdp_pos,index=code, name=date)\n",
    "    dpdp_neg = pd.Series(dpdp_neg,index=code, name=date)\n",
    "    \n",
    "    return dpdp_pos,dpdp_neg\n",
    "    \n",
    "data = os.listdir(r\"D:\\实习\\研报复现\\dataAll\\stockMinData\\close\")\n",
    "\n",
    "DPDP_POS = []\n",
    "DPDP_NEG = []\n",
    "\n",
    "for i in tqdm(data):\n",
    "    \n",
    "    dpdp_pos,dpdp_neg = cdpdp_func(date=i)\n",
    "    DPDP_POS.append(dpdp_pos)\n",
    "    DPDP_NEG.append(dpdp_neg)\n",
    "    \n",
    "DPDP_POS = pd.concat(DPDP_POS, axis=1).T\n",
    "DPDP_NEG = pd.concat(DPDP_NEG, axis=1).T"
   ]
  },
  {
   "cell_type": "code",
   "execution_count": null,
   "id": "9793b53d-527e-4f09-adfd-a11d9ed1eea5",
   "metadata": {},
   "outputs": [],
   "source": [
    "dp_pos_dp_pos_corr = alpha.mvind_neutral(DPDP_POS.rolling(20,min_periods=1).mean().dropna(axis=0,how='all').iloc[19:].loc[:'2024-03'])\n",
    "dp_neg_dp_neg_corr =alpha.mvind_neutral(DPDP_NEG.rolling(20,min_periods=1).mean().dropna(axis=0,how='all').iloc[19:].loc[:'2024-03'])\n",
    "\n",
    "CDPDP = alpha.zscore(dp_pos_dp_pos_corr)+alpha.zscore(dp_neg_dp_neg_corr)\n",
    "\n",
    "alpha.to_fctDataBase(CDPDP.dropna(axis=0,how='all'),'CDPDP')"
   ]
  }
 ],
 "metadata": {
  "kernelspec": {
   "display_name": "Python 3 (ipykernel)",
   "language": "python",
   "name": "python3"
  },
  "language_info": {
   "codemirror_mode": {
    "name": "ipython",
    "version": 3
   },
   "file_extension": ".py",
   "mimetype": "text/x-python",
   "name": "python",
   "nbconvert_exporter": "python",
   "pygments_lexer": "ipython3",
   "version": "3.11.7"
  }
 },
 "nbformat": 4,
 "nbformat_minor": 5
}
