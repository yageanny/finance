{
 "cells": [
  {
   "cell_type": "code",
   "execution_count": 1,
   "id": "076eec74-c30f-4680-8abd-1afb144aa31d",
   "metadata": {},
   "outputs": [],
   "source": [
    "import sys\n",
    "import os\n",
    "import numpy as np\n",
    "import pandas as pd\n",
    "from tqdm import tqdm\n",
    "from time import sleep\n",
    "import datetime\n",
    "sys.path.append('D:\\实习\\研报复现\\QuantDev\\ymtool')\n",
    "\n",
    "import Alpha as alpha"
   ]
  },
  {
   "cell_type": "markdown",
   "id": "046e5a45-8820-4287-bf7c-c31640d245c4",
   "metadata": {
    "jp-MarkdownHeadingCollapsed": true,
    "tags": []
   },
   "source": [
    "# 隔夜聪明钱"
   ]
  },
  {
   "cell_type": "code",
   "execution_count": 9,
   "id": "952f6db9-dbd0-4f2f-b933-ea8e4527d700",
   "metadata": {},
   "outputs": [
    {
     "name": "stderr",
     "output_type": "stream",
     "text": [
      "100%|██████████████████████████████████████████████████████████████████████████████| 2512/2512 [09:48<00:00,  4.27it/s]\n"
     ]
    }
   ],
   "source": [
    "data = os.listdir(r\"D:\\实习\\研报复现\\dataAll\\stockMinData\\volume\")\n",
    "res = []\n",
    "\n",
    "for date in tqdm(data):\n",
    "    volume_path = os.path.join(r\"D:\\实习\\研报复现\\dataAll\\stockMinData\\volume\",date)\n",
    "    date = pd.to_datetime(date.split('.')[0],format='%Y%m%d')\n",
    "    volume = pd.read_parquet(volume_path).iloc[0]\n",
    "    volume.name = date\n",
    "    \n",
    "    res.append(volume)\n",
    "intraday = pd.concat(res,axis=1).T"
   ]
  },
  {
   "cell_type": "code",
   "execution_count": 24,
   "id": "79ea5679-804d-47f4-85e3-b00f044c5d7a",
   "metadata": {
    "scrolled": true,
    "tags": []
   },
   "outputs": [],
   "source": [
    "close = alpha.load_data('pv\\\\stock_close')\n",
    "opn = alpha.load_data('pv\\\\stock_open')\n",
    "volume = alpha.load_data('pv\\\\stock_volume')\n",
    "shareout = alpha.load_data('pv\\\\stock_shareout')\n",
    "\n",
    "overnight_tnv = intraday.div(shareout,axis=0).dropna(axis=0,how='all').dropna(axis=0,how='all')\n",
    "\n",
    "overnight = (opn.div(close.shift(1),axis=0) - 1).dropna(axis=0,how='all')\n",
    "overnight_smart = ((overnight - overnight.rolling(20,min_periods=1).min())/\n",
    "                   (overnight.rolling(20,min_periods=1).max()-overnight.rolling(20,min_periods=1).min())).iloc[19:]\n",
    "\n",
    "overnight_smart20 = overnight_smart.div(overnight_tnv,axis=0).dropna(axis=0,how='all').rolling(20,min_periods=1).mean().iloc[19:]"
   ]
  },
  {
   "cell_type": "code",
   "execution_count": 27,
   "id": "9fa29302-ae74-445b-8f32-ff3c106d05ba",
   "metadata": {},
   "outputs": [
    {
     "name": "stdout",
     "output_type": "stream",
     "text": [
      "开始计算Barra相关性\n",
      "开始计算RankIC\n",
      "清除ST\n",
      "清除涨跌停\n",
      "获取交易面板完成\n",
      "开始分层回测...\n",
      "开始计算分层超额...\n",
      "结果已经存入D:\\实习\\研报复现\\QuantResearch\\alpha_result\\report\\overnight_smart20_M.xlsx\n"
     ]
    }
   ],
   "source": [
    "alpha.Alpha(overnight_smart20, 'overnight_smart20', verbose=True, freq='M', layer=10, rolling_ic=True).main()"
   ]
  },
  {
   "cell_type": "markdown",
   "id": "a7c0927d-3cb5-4856-9b81-5dd50a356015",
   "metadata": {
    "jp-MarkdownHeadingCollapsed": true,
    "tags": []
   },
   "source": [
    "# 日内换手率"
   ]
  },
  {
   "cell_type": "code",
   "execution_count": 50,
   "id": "37a1e655-e420-4384-a45d-a53e12686aab",
   "metadata": {
    "tags": []
   },
   "outputs": [
    {
     "name": "stderr",
     "output_type": "stream",
     "text": [
      "100%|██████████████████████████████████████████████████████████████████████████████| 2454/2454 [05:43<00:00,  7.14it/s]\n"
     ]
    }
   ],
   "source": [
    "CTR = []\n",
    "intraday_tnv = ((volume-intraday).div(shareout,axis=0)).dropna(axis=0,how='all').shift(1).dropna(axis=0,how='all').loc['2014-01-29':]\n",
    "overnight_smart_20 = overnight_smart20.loc[:'2024-03-29']\n",
    "\n",
    "idx = overnight_smart_20.columns.intersection(intraday_tnv.columns)\n",
    "\n",
    "for dayID in tqdm(range(20,len(overnight_smart_20)+1)):\n",
    "    overnight_smart_20_ = overnight_smart20.iloc[dayID-20:dayID].rank(pct=False)[idx]  \n",
    "    turnover_20 = intraday_tnv.iloc[dayID-20:dayID][idx]\n",
    "    \n",
    "    condition1 = overnight_smart_20_<=4\n",
    "    \n",
    "    # 使用numpy.select选择对应位置的B表的值\n",
    "    selected_values1 = np.select([condition1], [turnover_20],default=np.nan)\n",
    "\n",
    "    # 创建一个新的dataframe来存储这些值\n",
    "    value1 = pd.DataFrame(selected_values1, index=turnover_20.index, columns=turnover_20.columns)\n",
    "\n",
    "    # 计算均值\n",
    "    mean_values1 = value1.mean()\n",
    "    \n",
    "    CTR.append(mean_values1)\n",
    "\n",
    "CTR = pd.concat(CTR,axis=1).T\n",
    "CTR.index = intraday_tnv.index[19:]\n",
    "\n",
    "# CTRNeu = alpha.mvind_neutral(CTR)"
   ]
  },
  {
   "cell_type": "code",
   "execution_count": 59,
   "id": "5d2beff4-e4e8-400b-ac5a-1f60eeef7f0d",
   "metadata": {},
   "outputs": [
    {
     "name": "stderr",
     "output_type": "stream",
     "text": [
      "100%|█████████████████████████████████████████████████████████████████████████████| 2454/2454 [00:15<00:00, 156.13it/s]\n"
     ]
    }
   ],
   "source": [
    "import statsmodels.api as sm\n",
    "mv = np.log(alpha.load_data(\"pv\\\\stock_mv\")).stack()\n",
    "res = []\n",
    "for idx in tqdm(CTR.index):\n",
    "    temp = pd.concat([CTR.loc[idx], mv.loc[idx]], axis=1).dropna()\n",
    "\n",
    "    X = temp.iloc[:, 1:]\n",
    "    X = sm.add_constant(X)\n",
    "    y = temp.iloc[:, 0]\n",
    "\n",
    "    # 创建模型\n",
    "    model = sm.OLS(y, X)\n",
    "\n",
    "    # 拟合模型\n",
    "    results = model.fit()\n",
    "\n",
    "    res.append(results.resid)\n",
    "\n",
    "fctNeu = pd.concat(res, axis=1).T\n",
    "fctNeu.index = CTR.index"
   ]
  },
  {
   "cell_type": "code",
   "execution_count": 4,
   "id": "4600d5c3-e664-455d-ab74-b8c1a269028c",
   "metadata": {},
   "outputs": [],
   "source": [
    "CTR = alpha.load_fct('CTRNeu',fct_path='D:\\\\实习\\\\研报复现\\\\QuantResearch\\\\pv_alpha')"
   ]
  },
  {
   "cell_type": "code",
   "execution_count": 5,
   "id": "e1081add-a0fc-4a3f-9b7d-e4344a318ce0",
   "metadata": {},
   "outputs": [
    {
     "name": "stdout",
     "output_type": "stream",
     "text": [
      "开始计算Barra相关性\n",
      "开始计算RankIC\n",
      "清除ST\n",
      "清除涨跌停\n",
      "获取交易面板完成\n",
      "开始分层回测...\n",
      "开始计算分层超额...\n",
      "结果已经存入D:\\实习\\研报复现\\QuantResearch\\alpha_result\\report\\CTRNeu_M.xlsx\n"
     ]
    }
   ],
   "source": [
    "alpha.Alpha(CTR, 'CTRNeu', verbose=True, freq='M', layer=10, rolling_ic=True).main()"
   ]
  },
  {
   "cell_type": "code",
   "execution_count": 62,
   "id": "e6ab9337-14d5-42fd-bbac-1900f74cdbe4",
   "metadata": {},
   "outputs": [
    {
     "name": "stdout",
     "output_type": "stream",
     "text": [
      "开始计算Barra相关性\n",
      "开始计算RankIC\n",
      "清除ST\n",
      "清除涨跌停\n",
      "获取交易面板完成\n",
      "开始分层回测...\n",
      "开始计算分层超额...\n",
      "结果已经存入D:\\实习\\研报复现\\QuantResearch\\alpha_result\\report\\CTRNeu_W.xlsx\n"
     ]
    }
   ],
   "source": [
    "alpha.Alpha(fctNeu, 'CTRNeu', verbose=True, freq='W', layer=10, rolling_ic=True).main()"
   ]
  },
  {
   "cell_type": "code",
   "execution_count": 63,
   "id": "0ad93a19-8aae-404a-8441-f229658aa577",
   "metadata": {},
   "outputs": [],
   "source": [
    "alpha.to_fctDataBase(fctNeu.dropna(axis=0,how='all'),'CTRNeu')"
   ]
  }
 ],
 "metadata": {
  "kernelspec": {
   "display_name": "Python 3 (ipykernel)",
   "language": "python",
   "name": "python3"
  },
  "language_info": {
   "codemirror_mode": {
    "name": "ipython",
    "version": 3
   },
   "file_extension": ".py",
   "mimetype": "text/x-python",
   "name": "python",
   "nbconvert_exporter": "python",
   "pygments_lexer": "ipython3",
   "version": "3.11.7"
  }
 },
 "nbformat": 4,
 "nbformat_minor": 5
}
