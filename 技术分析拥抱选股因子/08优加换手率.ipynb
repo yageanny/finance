{
 "cells": [
  {
   "cell_type": "code",
   "execution_count": 1,
   "id": "397a89dd-40fd-4b07-a87d-4bbd704b613a",
   "metadata": {
    "tags": []
   },
   "outputs": [],
   "source": [
    "import os\n",
    "import sys\n",
    "sys.path.append('D:\\实习\\研报复现\\QuantDev\\ymtool')\n",
    "import numpy as np\n",
    "import pandas as pd\n",
    "import Alpha as alpha"
   ]
  },
  {
   "cell_type": "code",
   "execution_count": 2,
   "id": "3a738c59-a932-42da-976c-2aa00f630b4e",
   "metadata": {
    "tags": []
   },
   "outputs": [],
   "source": [
    "turnover = alpha.load_data('pv\\\\stock_turnover').replace(0,np.nan)\n",
    "\n",
    "STR = turnover.rolling(20,min_periods=1).std().dropna(axis=0,how='all').iloc[19:]\n",
    "Turn20 = turnover.rolling(20,min_periods=1).mean().dropna(axis=0,how='all').iloc[19:]"
   ]
  },
  {
   "cell_type": "code",
   "execution_count": 3,
   "id": "dd1f696d-f548-4d24-b89f-35d782715505",
   "metadata": {
    "tags": []
   },
   "outputs": [],
   "source": [
    "#STR 越小越好， Turn20越大越好\n",
    "STRrank = STR.rank(axis=1,pct=True,ascending=True)\n",
    "A = Turn20[STRrank<=0.5].rank(axis=1,pct=True,ascending=False)\n",
    "\n",
    "B = Turn20[STRrank>0.5].rank(axis=1,pct=True,ascending=True)\n",
    "\n",
    "C = A.combine_first(B)\n",
    "UTR = -(C+STRrank)"
   ]
  },
  {
   "cell_type": "code",
   "execution_count": 4,
   "id": "fa2d9348-67bc-4869-a76b-21bb9a6f20f0",
   "metadata": {
    "tags": []
   },
   "outputs": [
    {
     "name": "stderr",
     "output_type": "stream",
     "text": [
      "100%|██████████████████████████████████████████████████████████████████████████████| 3683/3683 [00:49<00:00, 74.21it/s]\n"
     ]
    }
   ],
   "source": [
    "UTRNeu = alpha.mvind_neutral(UTR.dropna(axis=0,how='all'))"
   ]
  },
  {
   "cell_type": "code",
   "execution_count": 5,
   "id": "1e42a77d-99fa-4028-9eb6-b32e7782bfc8",
   "metadata": {},
   "outputs": [
    {
     "name": "stdout",
     "output_type": "stream",
     "text": [
      "开始计算Barra相关性\n",
      "开始计算RankIC\n",
      "清除ST\n",
      "清除涨跌停\n",
      "获取交易面板完成\n",
      "开始分层回测...\n",
      "开始计算分层超额...\n",
      "结果已经存入D:\\实习\\研报复现\\QuantResearch\\选股因子回测结果\\report\\UTRNeu_W.xlsx\n"
     ]
    }
   ],
   "source": [
    "alpha.to_fctDataBase(UTRNeu,'UTRNeu')\n",
    "fct = alpha.load_fct('UTRNeu')\n",
    "alpha.Alpha(fct, 'UTRNeu', verbose=True, freq='W', layer=10, rolling_ic=True).main()"
   ]
  }
 ],
 "metadata": {
  "kernelspec": {
   "display_name": "Python 3 (ipykernel)",
   "language": "python",
   "name": "python3"
  },
  "language_info": {
   "codemirror_mode": {
    "name": "ipython",
    "version": 3
   },
   "file_extension": ".py",
   "mimetype": "text/x-python",
   "name": "python",
   "nbconvert_exporter": "python",
   "pygments_lexer": "ipython3",
   "version": "3.11.7"
  }
 },
 "nbformat": 4,
 "nbformat_minor": 5
}
