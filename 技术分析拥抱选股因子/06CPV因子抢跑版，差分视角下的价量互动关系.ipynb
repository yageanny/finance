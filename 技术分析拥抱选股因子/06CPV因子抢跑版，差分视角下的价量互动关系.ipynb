{
 "cells": [
  {
   "cell_type": "code",
   "execution_count": 2,
   "id": "ce3bc3c1-cdc2-4d80-bb3c-1443fe9a9294",
   "metadata": {},
   "outputs": [],
   "source": [
    "import os\n",
    "import numpy as np\n",
    "import pandas as pd\n",
    "from numba import jit\n",
    "from tqdm import tqdm\n",
    "import statsmodels.api as sm\n",
    "import sys\n",
    "sys.path.append('D:\\实习\\研报复现\\QuantDev\\ymtool')\n",
    "import Alpha as alpha\n",
    "\n",
    "import warnings\n",
    "warnings.filterwarnings('ignore')"
   ]
  },
  {
   "cell_type": "markdown",
   "id": "7b96c6e2-7b78-4355-917a-12c11aacc5c9",
   "metadata": {},
   "source": [
    "# CDVDV_V"
   ]
  },
  {
   "cell_type": "code",
   "execution_count": 5,
   "id": "f0efb2c7-d704-4955-a931-0a844c00512b",
   "metadata": {},
   "outputs": [
    {
     "name": "stderr",
     "output_type": "stream",
     "text": [
      "100%|██████████████████████████████████████████████████████████████████████████████| 2512/2512 [24:32<00:00,  1.71it/s]\n"
     ]
    }
   ],
   "source": [
    "def cdpdv_func(date):\n",
    "    close_path = os.path.join(r\"D:\\实习\\研报复现\\dataAll\\stockMinData\\close\",date)\n",
    "    volume_path = os.path.join(r\"D:\\实习\\研报复现\\dataAll\\stockMinData\\volume\",date)\n",
    "    close = pd.read_parquet(close_path)\n",
    "    volume = pd.read_parquet(volume_path)\n",
    "    \n",
    "    code = close.columns\n",
    "    date = pd.to_datetime(date.split('.')[0],format='%Y%m%d')\n",
    "    close = close.values\n",
    "    volume = volume.values\n",
    "    \n",
    "    dv_t = np.diff(volume,axis=0)[:-1]\n",
    "    dp_t_1 = np.diff(close,axis=0)[1:]\n",
    "    \n",
    "    # dpdv_pos\n",
    "    dv_t_pos = np.where(np.logical_and(dv_t > 0, dp_t_1 > 0), dv_t, np.nan)\n",
    "    dp_t_1_pos = np.where(np.logical_and(dv_t > 0, dp_t_1 > 0), dp_t_1, np.nan)\n",
    "    cov = np.nanmean((dv_t_pos-np.nanmean(dv_t_pos,axis=0))*(dp_t_1_pos-np.nanmean(dp_t_1_pos,axis=0)),axis=0)\n",
    "    dpdv_pos = cov/np.nanstd(dv_t_pos,axis=0)/np.nanstd(dp_t_1_pos,axis=0)\n",
    "\n",
    "    # dpdv_neg\n",
    "    dv_t_neg = np.where(np.logical_and(dv_t < 0, dp_t_1 < 0), dv_t, np.nan)\n",
    "    dp_t_1_neg = np.where(np.logical_and(dv_t < 0, dp_t_1 < 0), dp_t_1, np.nan)\n",
    "    cov = np.nanmean((dv_t_neg-np.nanmean(dv_t_neg,axis=0))*(dp_t_1_neg-np.nanmean(dp_t_1_neg,axis=0)),axis=0)\n",
    "    dpdv_neg = cov/np.nanstd(dv_t_neg,axis=0)/np.nanstd(dp_t_1_neg,axis=0)\n",
    "\n",
    "    # dpdv_pos_neg\n",
    "    dv_t_pos = np.where(np.logical_and(dv_t > 0, dp_t_1 < 0), dv_t, np.nan)\n",
    "    dp_t_1_neg = np.where(np.logical_and(dv_t > 0, dp_t_1 < 0), dp_t_1, np.nan)\n",
    "    cov = np.nanmean((dv_t_pos-np.nanmean(dv_t_pos,axis=0))*(dp_t_1_neg-np.nanmean(dp_t_1_neg,axis=0)),axis=0)\n",
    "    dpdv_pos_neg = cov/np.nanstd(dv_t_pos,axis=0)/np.nanstd(dp_t_1_neg,axis=0)\n",
    "\n",
    "    # dpdv_neg_pos\n",
    "    dp_t_neg = np.where(np.logical_and(dv_t < 0, dp_t_1 > 0), dv_t, np.nan)\n",
    "    dp_t_1_pos = np.where(np.logical_and(dv_t < 0, dp_t_1 > 0), dp_t_1, np.nan)\n",
    "    cov = np.nanmean((dp_t_neg-np.nanmean(dp_t_neg,axis=0))*(dp_t_1_pos-np.nanmean(dp_t_1_pos,axis=0)),axis=0)\n",
    "    dpdv_neg_pos = cov/np.nanstd(dp_t_neg,axis=0)/np.nanstd(dp_t_1_pos,axis=0)\n",
    "    \n",
    "    dpdv_pos = pd.Series(dpdv_pos,index=code, name=date)\n",
    "    dpdv_neg = pd.Series(dpdv_neg,index=code, name=date)\n",
    "    dpdv_pos_neg = pd.Series(dpdv_pos_neg,index=code, name=date)\n",
    "    dpdv_neg_pos = pd.Series(dpdv_neg_pos,index=code, name=date)\n",
    "    \n",
    "    return dpdv_pos, dpdv_neg, dpdv_pos_neg, dpdv_neg_pos\n",
    "    \n",
    "data = os.listdir(r\"D:\\实习\\研报复现\\dataAll\\stockMinData\\close\")\n",
    "\n",
    "DPDV_POS = []\n",
    "DPDV_NEG = []\n",
    "DPDV_POS_NEG = []\n",
    "DPDV_NEG_POS = []\n",
    "\n",
    "for i in tqdm(data):\n",
    "    \n",
    "    dpdv_pos, dpdv_neg, dpdv_pos_neg, dpdv_neg_pos = cdpdv_func(date=i)\n",
    "    DPDV_POS.append(dpdv_pos)\n",
    "    DPDV_NEG.append(dpdv_neg)\n",
    "    DPDV_POS_NEG.append(dpdv_pos_neg)\n",
    "    DPDV_NEG_POS.append(dpdv_neg_pos)\n",
    "    \n",
    "DPDV_POS = pd.concat(DPDV_POS, axis=1).T\n",
    "DPDV_NEG = pd.concat(DPDV_NEG, axis=1).T\n",
    "    \n",
    "DPDV_POS_NEG = pd.concat(DPDV_POS_NEG, axis=1).T\n",
    "DPDV_NEG_POS = pd.concat(DPDV_NEG_POS, axis=1).T"
   ]
  },
  {
   "cell_type": "code",
   "execution_count": 6,
   "id": "660c7daf-319c-4968-8362-b66fdc6137e8",
   "metadata": {},
   "outputs": [
    {
     "name": "stderr",
     "output_type": "stream",
     "text": [
      "100%|██████████████████████████████████████████████████████████████████████████████| 2473/2473 [00:38<00:00, 63.51it/s]\n",
      "100%|██████████████████████████████████████████████████████████████████████████████| 2473/2473 [00:38<00:00, 64.58it/s]\n",
      "100%|██████████████████████████████████████████████████████████████████████████████| 2473/2473 [00:37<00:00, 65.12it/s]\n",
      "100%|██████████████████████████████████████████████████████████████████████████████| 2473/2473 [00:38<00:00, 65.06it/s]\n"
     ]
    }
   ],
   "source": [
    "dv_pos_dp_pos_corr = alpha.mvind_neutral(DPDV_POS.rolling(20,min_periods=1).mean().dropna(axis=0,how='all').iloc[19:].loc[:'2024-03'])\n",
    "dv_neg_dp_neg_corr =alpha.mvind_neutral(DPDV_NEG.rolling(20,min_periods=1).mean().dropna(axis=0,how='all').iloc[19:].loc[:'2024-03'])\n",
    "dv_pos_dp_neg_corr = alpha.mvind_neutral(DPDV_POS_NEG.rolling(20,min_periods=1).mean().dropna(axis=0,how='all').iloc[19:].loc[:'2024-03'])\n",
    "dv_neg_dp_pos_corr =alpha.mvind_neutral(DPDV_NEG_POS.rolling(20,min_periods=1).mean().dropna(axis=0,how='all').iloc[19:].loc[:'2024-03'])\n",
    "\n",
    "CDPDV_V = alpha.zscore(dv_pos_dp_pos_corr)+alpha.zscore(dv_neg_dp_neg_corr)-alpha.zscore(dv_pos_dp_neg_corr)-alpha.zscore(dv_neg_dp_pos_corr)\n",
    "\n",
    "alpha.to_fctDataBase(CDPDV_V.dropna(axis=0,how='all'),'CDPDV_V')"
   ]
  }
 ],
 "metadata": {
  "kernelspec": {
   "display_name": "Python 3 (ipykernel)",
   "language": "python",
   "name": "python3"
  },
  "language_info": {
   "codemirror_mode": {
    "name": "ipython",
    "version": 3
   },
   "file_extension": ".py",
   "mimetype": "text/x-python",
   "name": "python",
   "nbconvert_exporter": "python",
   "pygments_lexer": "ipython3",
   "version": "3.11.7"
  }
 },
 "nbformat": 4,
 "nbformat_minor": 5
}
