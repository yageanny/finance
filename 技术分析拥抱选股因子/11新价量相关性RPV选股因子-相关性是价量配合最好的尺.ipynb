{
 "cells": [
  {
   "cell_type": "code",
   "execution_count": 1,
   "id": "fac100ef-37bd-419b-892b-28fabccc32d0",
   "metadata": {
    "tags": []
   },
   "outputs": [],
   "source": [
    "import os\n",
    "import sys\n",
    "sys.path.append('D:\\实习\\研报复现\\QuantDev\\ymtool')\n",
    "import numpy as np\n",
    "import pandas as pd\n",
    "from tqdm import tqdm\n",
    "import statsmodels.api as sm\n",
    "\n",
    "import Alpha as alpha"
   ]
  },
  {
   "cell_type": "code",
   "execution_count": 2,
   "id": "35e8aa36-046c-4d36-9f02-dc971030ff0e",
   "metadata": {
    "tags": []
   },
   "outputs": [],
   "source": [
    "close = alpha.load_data('pv\\\\stock_close')\n",
    "op = alpha.load_data('pv\\\\stock_open')\n",
    "turnover = alpha.load_data('pv\\\\stock_turnover').replace(0,np.nan)\n",
    "\n",
    "co = close - op\n",
    "ccoiv = co.rolling(20).corr(turnover).dropna(axis=0,how='all')\n",
    "\n",
    "oyc = op - close.shift(1)\n",
    "cov = oyc.rolling(20).corr(turnover.shift(1)).dropna(axis=0,how='all')"
   ]
  },
  {
   "cell_type": "code",
   "execution_count": 3,
   "id": "de5447a4-fd26-4542-b65b-7354cb5c873f",
   "metadata": {
    "tags": []
   },
   "outputs": [
    {
     "name": "stderr",
     "output_type": "stream",
     "text": [
      "100%|██████████████████████████████████████████████████████████████████████████████| 3668/3668 [00:50<00:00, 73.13it/s]\n"
     ]
    }
   ],
   "source": [
    "RPV = alpha.mvind_neutral((alpha.zscore(cov) - alpha.zscore(ccoiv)).dropna(axis=0,how='all'))"
   ]
  },
  {
   "cell_type": "code",
   "execution_count": 4,
   "id": "271360e3-e14b-412b-b6f3-de4a785d9e5d",
   "metadata": {},
   "outputs": [
    {
     "name": "stdout",
     "output_type": "stream",
     "text": [
      "开始计算Barra相关性\n",
      "开始计算RankIC\n",
      "清除ST\n",
      "清除涨跌停\n",
      "获取交易面板完成\n",
      "开始分层回测...\n",
      "开始计算分层超额...\n",
      "结果已经存入D:\\实习\\研报复现\\QuantResearch\\选股因子回测结果\\report\\RPV_W.xlsx\n"
     ]
    }
   ],
   "source": [
    "alpha.to_fctDataBase(RPV,'RPV')\n",
    "fct = alpha.load_fct('RPV')\n",
    "alpha.Alpha(fct, 'RPV', verbose=True, freq='W', layer=10, rolling_ic=True).main()"
   ]
  }
 ],
 "metadata": {
  "kernelspec": {
   "display_name": "Python 3 (ipykernel)",
   "language": "python",
   "name": "python3"
  },
  "language_info": {
   "codemirror_mode": {
    "name": "ipython",
    "version": 3
   },
   "file_extension": ".py",
   "mimetype": "text/x-python",
   "name": "python",
   "nbconvert_exporter": "python",
   "pygments_lexer": "ipython3",
   "version": "3.11.7"
  }
 },
 "nbformat": 4,
 "nbformat_minor": 5
}
