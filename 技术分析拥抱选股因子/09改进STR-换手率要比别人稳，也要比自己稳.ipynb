{
 "cells": [
  {
   "cell_type": "code",
   "execution_count": 10,
   "id": "dcf9bc55-8d28-46b6-a18e-c7f0dfdd3e2e",
   "metadata": {
    "tags": []
   },
   "outputs": [],
   "source": [
    "import os\n",
    "import sys\n",
    "sys.path.append('D:\\实习\\研报复现\\QuantDev\\ymtool')\n",
    "import numpy as np\n",
    "import pandas as pd\n",
    "from tqdm import tqdm\n",
    "import statsmodels.api as sm\n",
    "\n",
    "import Alpha as alpha"
   ]
  },
  {
   "cell_type": "code",
   "execution_count": 6,
   "id": "22467c35-36f7-419a-a9a1-6733cd9ccac3",
   "metadata": {
    "tags": []
   },
   "outputs": [],
   "source": [
    "mv = np.log(alpha.load_data('pv\\\\stock_mv')).stack()\n",
    "\n",
    "def neutral(fct):\n",
    "    res = []\n",
    "    for idx in tqdm(fct.index):\n",
    "        temp = pd.concat([fct.loc[idx],mv.loc[idx]],axis=1).dropna()\n",
    "\n",
    "        X = temp.iloc[:,1:]\n",
    "        X = sm.add_constant(X)\n",
    "        y = temp.iloc[:,0]\n",
    "\n",
    "        # 创建模型\n",
    "        model = sm.OLS(y, X)\n",
    "\n",
    "        # 拟合模型\n",
    "        results = model.fit()\n",
    "\n",
    "        res.append(results.resid)\n",
    "\n",
    "    fctNeu = pd.concat(res,axis=1).T\n",
    "    fctNeu.index = fct.index\n",
    "    return fctNeu"
   ]
  },
  {
   "cell_type": "code",
   "execution_count": 15,
   "id": "9cac6de7-219d-4adb-862a-3bec34cc3c21",
   "metadata": {
    "tags": []
   },
   "outputs": [
    {
     "name": "stderr",
     "output_type": "stream",
     "text": [
      "100%|█████████████████████████████████████████████████████████████████████████████| 3682/3682 [00:16<00:00, 225.25it/s]\n"
     ]
    }
   ],
   "source": [
    "turnover = alpha.load_data('pv\\\\stock_turnover').replace(0,np.nan)\n",
    "STR = turnover.rolling(20,min_periods=1).std().dropna(axis=0,how='all')\n",
    "SCR = neutral((STR.div(turnover.rolling(40,min_periods=1).std().shift(20),axis=0)-1).dropna(axis=0,how='all').replace([np.inf,-np.inf],np.nan))"
   ]
  },
  {
   "cell_type": "code",
   "execution_count": 16,
   "id": "b1876376-d62f-43ee-aae6-52168bef2c29",
   "metadata": {},
   "outputs": [
    {
     "name": "stdout",
     "output_type": "stream",
     "text": [
      "开始计算Barra相关性\n",
      "开始计算RankIC\n",
      "清除ST\n",
      "清除涨跌停\n",
      "获取交易面板完成\n",
      "开始分层回测...\n",
      "开始计算分层超额...\n",
      "结果已经存入D:\\实习\\研报复现\\QuantResearch\\选股因子回测结果\\report\\SCR_W.xlsx\n"
     ]
    }
   ],
   "source": [
    "alpha.to_fctDataBase(SCR,'SCR')\n",
    "fct = alpha.load_fct('SCR')\n",
    "alpha.Alpha(fct, 'SCR', verbose=True, freq='W', layer=10, rolling_ic=True).main()"
   ]
  }
 ],
 "metadata": {
  "kernelspec": {
   "display_name": "Python 3 (ipykernel)",
   "language": "python",
   "name": "python3"
  },
  "language_info": {
   "codemirror_mode": {
    "name": "ipython",
    "version": 3
   },
   "file_extension": ".py",
   "mimetype": "text/x-python",
   "name": "python",
   "nbconvert_exporter": "python",
   "pygments_lexer": "ipython3",
   "version": "3.11.7"
  }
 },
 "nbformat": 4,
 "nbformat_minor": 5
}
