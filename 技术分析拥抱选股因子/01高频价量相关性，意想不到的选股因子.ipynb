{
 "cells": [
  {
   "cell_type": "code",
   "execution_count": 1,
   "id": "8e8966c7-2e8f-4334-8057-2e7d73ac58d6",
   "metadata": {
    "tags": []
   },
   "outputs": [],
   "source": [
    "import os\n",
    "import numpy as np\n",
    "import pandas as pd\n",
    "from numba import jit\n",
    "from tqdm import tqdm\n",
    "import statsmodels.api as sm\n",
    "import sys\n",
    "sys.path.append('D:\\实习\\研报复现\\QuantDev\\ymtool')\n",
    "import Alpha as alpha\n",
    "\n",
    "import warnings\n",
    "warnings.filterwarnings('ignore')"
   ]
  },
  {
   "cell_type": "markdown",
   "id": "99dd48c3-7bf3-413c-9057-8ae1b28e0a80",
   "metadata": {
    "jp-MarkdownHeadingCollapsed": true,
    "tags": []
   },
   "source": [
    "# 价量相关性因子的逻辑"
   ]
  },
  {
   "cell_type": "code",
   "execution_count": 4,
   "id": "58e32ab0-7942-4f63-b3ef-ce6dc280432b",
   "metadata": {},
   "outputs": [
    {
     "name": "stderr",
     "output_type": "stream",
     "text": [
      "100%|██████████████████████████████████████████████████████████████████████████████| 2512/2512 [19:54<00:00,  2.10it/s]\n"
     ]
    }
   ],
   "source": [
    "def pv_corr_func(date):\n",
    "    close_path = os.path.join(r\"D:\\实习\\研报复现\\dataAll\\stockMinData\\close\",date)\n",
    "    volume_path = os.path.join(r\"D:\\实习\\研报复现\\dataAll\\stockMinData\\volume\",date)\n",
    "    date = pd.to_datetime(date.split('.')[0],format='%Y%m%d')\n",
    "    close = pd.read_parquet(close_path)\n",
    "    volume = pd.read_parquet(volume_path)\n",
    "    code = close.columns\n",
    "    close = close.values\n",
    "    volume = volume.values\n",
    "\n",
    "    cov = np.mean((close-np.mean(close,axis=0))*(volume-np.mean(volume,axis=0)),axis=0)\n",
    "    pv_corr = cov/np.std(close,axis=0)/np.std(volume,axis=0)\n",
    "    pv_corr = pd.Series(pv_corr,index=code, name=date)\n",
    "    \n",
    "    return pv_corr\n",
    "    \n",
    "data = os.listdir(r\"D:\\实习\\研报复现\\dataAll\\stockMinData\\close\")\n",
    "\n"
   ]
  },
  {
   "cell_type": "code",
   "execution_count": null,
   "id": "ec047d7f",
   "metadata": {},
   "outputs": [],
   "source": [
    "pv_corr = []\n",
    "\n",
    "for i in tqdm(data):\n",
    "    \n",
    "    pv_corr_ = pv_corr_func(date=i)\n",
    "    pv_corr.append(pv_corr_)\n",
    "    \n",
    "pv_corr = pd.concat(pv_corr, axis=1).T"
   ]
  },
  {
   "cell_type": "code",
   "execution_count": 5,
   "id": "5f2e2ef1-30ed-46c6-8ac8-7b33b6b25877",
   "metadata": {
    "tags": []
   },
   "outputs": [],
   "source": [
    "ret20 = alpha.load_data('pv\\\\adj_close_return').rolling(20).sum().stack()\n",
    "def deRet20(fct):\n",
    "    res = []\n",
    "    for idx in tqdm(fct.index):\n",
    "        temp = pd.concat([fct.loc[idx],ret20.loc[idx]],axis=1).dropna()\n",
    "\n",
    "        X = temp.iloc[:,1:]\n",
    "        X = sm.add_constant(X)\n",
    "        y = temp.iloc[:,0]\n",
    "\n",
    "        # 创建模型\n",
    "        model = sm.OLS(y, X)\n",
    "\n",
    "        # 拟合模型\n",
    "        results = model.fit()\n",
    "\n",
    "        res.append(results.resid)\n",
    "\n",
    "    fctNeu = pd.concat(res,axis=1).T\n",
    "    fctNeu.index = fct.index\n",
    "    return fctNeu"
   ]
  },
  {
   "cell_type": "code",
   "execution_count": 8,
   "id": "c66fbef7-b4af-4230-81b7-a9bf98ee729f",
   "metadata": {
    "tags": []
   },
   "outputs": [
    {
     "name": "stderr",
     "output_type": "stream",
     "text": [
      "100%|██████████████████████████████████████████████████████████████████████████████| 2473/2473 [00:44<00:00, 55.10it/s]\n",
      "100%|█████████████████████████████████████████████████████████████████████████████| 2473/2473 [00:14<00:00, 165.59it/s]\n",
      "100%|██████████████████████████████████████████████████████████████████████████████| 2472/2472 [00:39<00:00, 62.36it/s]\n",
      "100%|█████████████████████████████████████████████████████████████████████████████| 2472/2472 [00:13<00:00, 176.62it/s]\n"
     ]
    }
   ],
   "source": [
    "pv_corr_avg = deRet20(alpha.mvind_neutral(pv_corr.replace([np.inf,-np.inf],0).rolling(20,min_periods=1).mean().dropna(axis=0,how='all').iloc[19:].loc[:'2024-03']))\n",
    "pv_corr_std = deRet20(alpha.mvind_neutral(pv_corr.replace([np.inf,-np.inf],0).rolling(20,min_periods=1).std().dropna(axis=0,how='all').iloc[19:].loc[:'2024-03']))"
   ]
  },
  {
   "cell_type": "code",
   "execution_count": 9,
   "id": "d32432d7-8d25-4df9-b2e4-ba425df69836",
   "metadata": {
    "tags": []
   },
   "outputs": [],
   "source": [
    "pv_corr_det20 = (alpha.zscore(pv_corr_avg)+alpha.zscore(pv_corr_std)).dropna(axis=0,how='all')"
   ]
  },
  {
   "cell_type": "markdown",
   "id": "a7e399c5-dce5-46a3-9b5e-5baac723cbd5",
   "metadata": {
    "jp-MarkdownHeadingCollapsed": true,
    "tags": []
   },
   "source": [
    "# 价量相关性的趋势因子"
   ]
  },
  {
   "cell_type": "code",
   "execution_count": 11,
   "id": "fb2f793f-9cc0-47ec-b5e8-d042c2ee2698",
   "metadata": {
    "tags": []
   },
   "outputs": [
    {
     "name": "stderr",
     "output_type": "stream",
     "text": [
      "100%|█████████████████████████████████████████████████████████████████████████████| 2493/2493 [00:04<00:00, 558.78it/s]\n"
     ]
    }
   ],
   "source": [
    "Beta = []\n",
    "for i in tqdm(range(20,len(pv_corr)+1)):\n",
    "    x = np.array(np.arange(1,21)).reshape(20,1)\n",
    "\n",
    "    beta = np.linalg.pinv(x.T @ x) @ x.T @ (pv_corr.iloc[i-20:i].dropna(axis=1))\n",
    "    Beta.append(beta.T)\n",
    "\n",
    "Beta = pd.concat(Beta,axis=1).T\n",
    "\n",
    "Beta.index = pv_corr.index[19:]"
   ]
  },
  {
   "cell_type": "code",
   "execution_count": 13,
   "id": "3299ce5b-b6fd-4241-871e-06c21ab90889",
   "metadata": {
    "tags": []
   },
   "outputs": [],
   "source": [
    "ret20 = alpha.load_data('pv\\\\adj_close_return').rolling(20,min_periods=1).sum().stack()\n",
    "std20 = alpha.load_data('pv\\\\adj_close_return').rolling(20,min_periods=1).std().stack()\n",
    "tnv20 = alpha.load_data('pv\\\\stock_turnover').rolling(20,min_periods=1).mean().stack()\n",
    "\n",
    "def depv(fct):\n",
    "    res = []\n",
    "    for idx in tqdm(fct.index):\n",
    "        temp = pd.concat([fct.loc[idx],ret20.loc[idx],\\\n",
    "                          std20.loc[idx],tnv20.loc[idx]],axis=1).dropna()\n",
    "        \n",
    "        X = temp.iloc[:,1:]\n",
    "        X = sm.add_constant(X)\n",
    "        y = temp.iloc[:,0]\n",
    "\n",
    "        # 创建模型\n",
    "        model = sm.OLS(y, X)\n",
    "\n",
    "        # 拟合模型\n",
    "        results = model.fit()\n",
    "\n",
    "        res.append(results.resid)\n",
    "\n",
    "    fctNeu = pd.concat(res,axis=1).T\n",
    "    fctNeu.index = fct.index\n",
    "    return fctNeu"
   ]
  },
  {
   "cell_type": "code",
   "execution_count": 14,
   "id": "0dba8a36-e8a8-4cdf-a94a-2c57df74b5f1",
   "metadata": {
    "tags": []
   },
   "outputs": [
    {
     "name": "stderr",
     "output_type": "stream",
     "text": [
      "100%|█████████████████████████████████████████████████████████████████████████████| 2473/2473 [00:20<00:00, 117.95it/s]\n",
      "100%|██████████████████████████████████████████████████████████████████████████████| 2473/2473 [00:39<00:00, 63.26it/s]\n"
     ]
    }
   ],
   "source": [
    "pv_corr_trend = alpha.mvind_neutral(depv(Beta.loc[:'2024-03']).dropna(axis=0,how='all'))"
   ]
  },
  {
   "cell_type": "markdown",
   "id": "b3f62a02-2c0f-4d48-a6b0-b9db985b9228",
   "metadata": {
    "tags": []
   },
   "source": [
    "# CPV"
   ]
  },
  {
   "cell_type": "code",
   "execution_count": 15,
   "id": "71e7b845-4936-46c5-8fbf-b5a0ff112445",
   "metadata": {
    "tags": []
   },
   "outputs": [],
   "source": [
    "CPV = alpha.zscore(pv_corr_trend)+alpha.zscore(pv_corr_det20)"
   ]
  },
  {
   "cell_type": "code",
   "execution_count": 20,
   "id": "4a211483-9bfb-4986-9256-f529dc5cb494",
   "metadata": {},
   "outputs": [],
   "source": [
    "alpha.to_fctDataBase(CPV.dropna(axis=0,how='all'),'CPV')"
   ]
  }
 ],
 "metadata": {
  "kernelspec": {
   "display_name": "Python 3 (ipykernel)",
   "language": "python",
   "name": "python3"
  },
  "language_info": {
   "codemirror_mode": {
    "name": "ipython",
    "version": 3
   },
   "file_extension": ".py",
   "mimetype": "text/x-python",
   "name": "python",
   "nbconvert_exporter": "python",
   "pygments_lexer": "ipython3",
   "version": "3.11.7"
  }
 },
 "nbformat": 4,
 "nbformat_minor": 5
}
