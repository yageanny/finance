{
 "cells": [
  {
   "cell_type": "code",
   "execution_count": 1,
   "id": "c5eaf4d6-8eaa-402d-bf52-160413c5b5e7",
   "metadata": {
    "tags": []
   },
   "outputs": [],
   "source": [
    "import os\n",
    "import numpy as np\n",
    "import pandas as pd\n",
    "from numba import jit\n",
    "from tqdm import tqdm\n",
    "import statsmodels.api as sm\n",
    "import sys\n",
    "sys.path.append('D:\\实习\\研报复现\\QuantDev\\ymtool')\n",
    "import Alpha as alpha\n",
    "\n",
    "import warnings\n",
    "warnings.filterwarnings('ignore')"
   ]
  },
  {
   "cell_type": "markdown",
   "id": "f294608c-a1f9-45da-90da-c6a8cb766ae5",
   "metadata": {
    "tags": []
   },
   "source": [
    "# UTD"
   ]
  },
  {
   "cell_type": "code",
   "execution_count": 4,
   "id": "d9076679-b2fc-4a08-a41c-a4cb79fbd1f5",
   "metadata": {
    "tags": []
   },
   "outputs": [],
   "source": [
    "freeshare = alpha.load_data('pv\\\\stock_shareout')"
   ]
  },
  {
   "cell_type": "code",
   "execution_count": 15,
   "id": "a2e6eee6-a017-4142-a336-0d53c30caefb",
   "metadata": {
    "scrolled": true
   },
   "outputs": [],
   "source": [
    "data = os.listdir(r\"D:\\实习\\研报复现\\dataAll\\stockMinData\\close\")\n",
    "\n",
    "res = []\n",
    "for date in tqdm(data):\n",
    "    volume_path = os.path.join(r\"D:\\实习\\研报复现\\dataAll\\stockMinData\\volume\",date)\n",
    "    date = pd.to_datetime(date.split('.')[0],format='%Y%m%d')\n",
    "    volume = pd.read_parquet(volume_path)\n",
    "    TurnVol_daily = np.divide(volume,freeshare.loc[date]).std(axis=0)\n",
    "    TurnVol_daily.name = date\n",
    "    res.append(TurnVol_daily)\n",
    "\n",
    "TurnVol_daily = pd.concat(TurnVol_daily,axis=1).T\n",
    "UTD = (TurnVol_daily.rolling(20,min_periods=1).std().div(TurnVol_daily.rolling(20,min_periods=1).mean(),axis=0)).iloc[19:]"
   ]
  },
  {
   "cell_type": "code",
   "execution_count": 20,
   "id": "fe5dc2a4-3baf-4ffe-8e53-393d1cc293fd",
   "metadata": {},
   "outputs": [
    {
     "name": "stderr",
     "output_type": "stream",
     "text": [
      "100%|██████████████████████████████████████████████████████████████████████████████| 2473/2473 [00:39<00:00, 62.54it/s]\n"
     ]
    }
   ],
   "source": [
    "UTDNeu = alpha.mvind_neutral(UTD)"
   ]
  },
  {
   "cell_type": "code",
   "execution_count": 21,
   "id": "5e661b84-0b12-49bb-b33c-2b060d272ce8",
   "metadata": {},
   "outputs": [],
   "source": [
    "alpha.to_fctDataBase(UTDNeu.dropna(axis=0,how='all'),'UTDNeu')"
   ]
  }
 ],
 "metadata": {
  "kernelspec": {
   "display_name": "Python 3 (ipykernel)",
   "language": "python",
   "name": "python3"
  },
  "language_info": {
   "codemirror_mode": {
    "name": "ipython",
    "version": 3
   },
   "file_extension": ".py",
   "mimetype": "text/x-python",
   "name": "python",
   "nbconvert_exporter": "python",
   "pygments_lexer": "ipython3",
   "version": "3.11.7"
  }
 },
 "nbformat": 4,
 "nbformat_minor": 5
}
