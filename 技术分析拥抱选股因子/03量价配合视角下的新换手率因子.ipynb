{
 "cells": [
  {
   "cell_type": "code",
   "execution_count": 6,
   "id": "e6ad8b77-03ae-4570-b80f-2fce3b3b27dd",
   "metadata": {
    "tags": []
   },
   "outputs": [],
   "source": [
    "import os\n",
    "import sys\n",
    "sys.path.append('D:\\实习\\研报复现\\QuantDev\\ymtool')\n",
    "import numpy as np\n",
    "import pandas as pd\n",
    "import Alpha as alpha"
   ]
  },
  {
   "cell_type": "code",
   "execution_count": 7,
   "id": "3241e7dd-e38d-4bd3-a795-d2b28b57ddcb",
   "metadata": {
    "tags": []
   },
   "outputs": [
    {
     "name": "stderr",
     "output_type": "stream",
     "text": [
      "100%|██████████████████████████████████████████████████████████████████████████████| 3625/3625 [00:46<00:00, 78.02it/s]\n"
     ]
    }
   ],
   "source": [
    "turnover = alpha.load_data('pv\\\\stock_turnover').replace(0,np.nan)\n",
    "\n",
    "baseTNV = turnover.rolling(40).mean().shift(20).dropna(axis=0,how='all')\n",
    "PctTurn20 = -alpha.mvind_neutral((turnover.div(baseTNV,axis=0)-1).rolling(20).mean().dropna(axis=0,how='all'))"
   ]
  },
  {
   "cell_type": "code",
   "execution_count": 8,
   "id": "439293be-f2c6-4add-a393-52224716f48a",
   "metadata": {},
   "outputs": [
    {
     "name": "stdout",
     "output_type": "stream",
     "text": [
      "开始计算Barra相关性\n",
      "开始计算RankIC\n",
      "清除ST\n",
      "清除涨跌停\n",
      "获取交易面板完成\n",
      "开始分层回测...\n",
      "开始计算分层超额...\n",
      "结果已经存入D:\\实习\\研报复现\\QuantResearch\\选股因子回测结果\\report\\PctTurn20_W.xlsx\n"
     ]
    }
   ],
   "source": [
    "alpha.to_fctDataBase(PctTurn20,'PctTurn20')\n",
    "fct = alpha.load_fct('PctTurn20')\n",
    "alpha.Alpha(fct, 'PctTurn20', verbose=True, freq='W', layer=10, rolling_ic=True).main()"
   ]
  }
 ],
 "metadata": {
  "kernelspec": {
   "display_name": "Python 3 (ipykernel)",
   "language": "python",
   "name": "python3"
  },
  "language_info": {
   "codemirror_mode": {
    "name": "ipython",
    "version": 3
   },
   "file_extension": ".py",
   "mimetype": "text/x-python",
   "name": "python",
   "nbconvert_exporter": "python",
   "pygments_lexer": "ipython3",
   "version": "3.11.7"
  }
 },
 "nbformat": 4,
 "nbformat_minor": 5
}
