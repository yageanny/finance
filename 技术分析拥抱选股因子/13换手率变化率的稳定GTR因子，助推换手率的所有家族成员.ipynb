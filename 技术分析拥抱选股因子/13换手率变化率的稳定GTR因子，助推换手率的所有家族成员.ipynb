{
 "cells": [
  {
   "cell_type": "code",
   "execution_count": 1,
   "id": "625b450f-ba92-4df0-8e8b-54348fc6f2ec",
   "metadata": {
    "tags": []
   },
   "outputs": [],
   "source": [
    "import os\n",
    "import sys\n",
    "sys.path.append('D:\\实习\\研报复现\\QuantDev\\ymtool')\n",
    "import numpy as np\n",
    "import pandas as pd\n",
    "from tqdm import tqdm\n",
    "import statsmodels.api as sm\n",
    "\n",
    "import Alpha as alpha"
   ]
  },
  {
   "cell_type": "markdown",
   "id": "89f0393c-33e6-411d-a775-5377924761c6",
   "metadata": {
    "jp-MarkdownHeadingCollapsed": true,
    "tags": []
   },
   "source": [
    "# GTR"
   ]
  },
  {
   "cell_type": "code",
   "execution_count": 3,
   "id": "54e2ca04-699c-42dc-b3c1-706baadb125f",
   "metadata": {
    "tags": []
   },
   "outputs": [
    {
     "name": "stderr",
     "output_type": "stream",
     "text": [
      "C:\\Users\\Devin\\AppData\\Local\\Temp\\ipykernel_2652\\1132332965.py:3: FutureWarning: The default fill_method='pad' in DataFrame.pct_change is deprecated and will be removed in a future version. Either fill in any non-leading NA values prior to calling pct_change or specify 'fill_method=None' to not fill NA values.\n",
      "  GTR = alpha.mvind_neutral(turnover.pct_change().rolling(20).std().dropna(axis=0,how='all'))\n",
      "100%|██████████████████████████████████████████████████████████████████████████████| 3683/3683 [00:52<00:00, 69.52it/s]\n"
     ]
    }
   ],
   "source": [
    "turnover =  alpha.load_data('pv\\\\stock_turnover').replace(0,np.nan)\n",
    "\n",
    "GTR = alpha.mvind_neutral(turnover.pct_change().rolling(20).std().dropna(axis=0,how='all'))"
   ]
  },
  {
   "cell_type": "code",
   "execution_count": 4,
   "id": "d9442e16-2589-4458-9df4-e10f16002451",
   "metadata": {},
   "outputs": [
    {
     "name": "stdout",
     "output_type": "stream",
     "text": [
      "开始计算Barra相关性\n",
      "开始计算RankIC\n",
      "清除ST\n",
      "清除涨跌停\n",
      "获取交易面板完成\n",
      "开始分层回测...\n",
      "开始计算分层超额...\n",
      "结果已经存入D:\\实习\\研报复现\\QuantResearch\\选股因子回测结果\\report\\GTR_W.xlsx\n"
     ]
    }
   ],
   "source": [
    "alpha.to_fctDataBase(GTR,'GTR')\n",
    "fct = alpha.load_fct('GTR')\n",
    "alpha.Alpha(fct, 'GTR', verbose=True, freq='W', layer=10, rolling_ic=True).main()"
   ]
  },
  {
   "cell_type": "markdown",
   "id": "9630a2e5-1ba1-4bde-b419-05430264d396",
   "metadata": {
    "jp-MarkdownHeadingCollapsed": true,
    "tags": []
   },
   "source": [
    "# 加强作用"
   ]
  },
  {
   "cell_type": "code",
   "execution_count": 5,
   "id": "e6b4a884-c621-4a44-9254-3fe599cef09c",
   "metadata": {},
   "outputs": [
    {
     "name": "stderr",
     "output_type": "stream",
     "text": [
      "100%|██████████████████████████████████████████████████████████████████████████████| 3684/3684 [00:47<00:00, 77.78it/s]\n",
      "100%|██████████████████████████████████████████████████████████████████████████████| 3684/3684 [00:48<00:00, 75.66it/s]\n",
      "100%|██████████████████████████████████████████████████████████████████████████████| 3625/3625 [00:45<00:00, 78.91it/s]\n",
      "100%|██████████████████████████████████████████████████████████████████████████████| 3644/3644 [00:45<00:00, 80.60it/s]\n"
     ]
    }
   ],
   "source": [
    "def nonneg(fct):\n",
    "    min_val = fct.min(axis=1)\n",
    "    nonneg_fct = fct.sub(min_val,axis=0)\n",
    "    return nonneg_fct\n",
    "\n",
    "Turn20 = alpha.mvind_neutral(turnover.rolling(20).mean().dropna(axis=0,how='all'))\n",
    "STR = alpha.mvind_neutral(turnover.rolling(20).std().dropna(axis=0,how='all'))\n",
    "PctTurn20 = alpha.mvind_neutral((turnover.div(turnover.rolling(40).mean().shift(20),axis=0)-1).rolling(20).mean().dropna(axis=0,how='all'))\n",
    "SCR = alpha.mvind_neutral((turnover.rolling(20).std().div(turnover.rolling(40).std().shift(20),axis=0)-1).dropna(axis=0,how='all'))\n",
    "\n",
    "\n",
    "Turn20_Turbo = nonneg(alpha.zscore(Turn20)).rank(axis=1,pct=True)+(nonneg(alpha.zscore(GTR))).rank(axis=1,pct=True)\n",
    "STR_Turbo = nonneg(alpha.zscore(STR)).rank(axis=1,pct=True)+(nonneg(alpha.zscore(GTR))).rank(axis=1,pct=True)\n",
    "PctTurn20_Turbo = nonneg(alpha.zscore(PctTurn20)).rank(axis=1,pct=True)+(nonneg(alpha.zscore(GTR))).rank(axis=1,pct=True)\n",
    "SCR_Turbo = nonneg(alpha.zscore(SCR)).rank(axis=1,pct=True)+(nonneg(alpha.zscore(GTR))).rank(axis=1,pct=True)"
   ]
  },
  {
   "cell_type": "code",
   "execution_count": 6,
   "id": "3b06e1c0-b9bf-417b-a1ac-e322d6720863",
   "metadata": {
    "tags": []
   },
   "outputs": [
    {
     "name": "stderr",
     "output_type": "stream",
     "text": [
      "100%|██████████████████████████████████████████████████████████████████████████████| 3683/3683 [00:46<00:00, 79.19it/s]\n",
      "100%|██████████████████████████████████████████████████████████████████████████████| 3683/3683 [00:47<00:00, 77.46it/s]\n",
      "100%|██████████████████████████████████████████████████████████████████████████████| 3625/3625 [00:52<00:00, 69.45it/s]\n",
      "100%|██████████████████████████████████████████████████████████████████████████████| 3644/3644 [00:51<00:00, 70.17it/s]\n"
     ]
    }
   ],
   "source": [
    "Turn20_TurboNeu = alpha.mvind_neutral(Turn20_Turbo.dropna(axis=0,how='all'))\n",
    "STR_TurboNeu = alpha.mvind_neutral(STR_Turbo.dropna(axis=0,how='all'))\n",
    "PctTurn20_TurboNeu = alpha.mvind_neutral(PctTurn20_Turbo.dropna(axis=0,how='all'))\n",
    "SCR_TurboNeu = alpha.mvind_neutral(SCR_Turbo.dropna(axis=0,how='all'))"
   ]
  },
  {
   "cell_type": "code",
   "execution_count": 7,
   "id": "677613b6-1c94-4c2d-83e6-20bc5f949548",
   "metadata": {},
   "outputs": [
    {
     "name": "stdout",
     "output_type": "stream",
     "text": [
      "开始计算Barra相关性\n",
      "开始计算RankIC\n",
      "清除ST\n",
      "清除涨跌停\n",
      "获取交易面板完成\n",
      "开始分层回测...\n",
      "开始计算分层超额...\n",
      "结果已经存入D:\\实习\\研报复现\\QuantResearch\\选股因子回测结果\\report\\Turn20_TurboNeu_W.xlsx\n"
     ]
    }
   ],
   "source": [
    "alpha.to_fctDataBase(Turn20_TurboNeu,'Turn20_TurboNeu')\n",
    "fct = alpha.load_fct('Turn20_TurboNeu')\n",
    "alpha.Alpha(fct, 'Turn20_TurboNeu', verbose=True, freq='W', layer=10, rolling_ic=True).main()"
   ]
  },
  {
   "cell_type": "code",
   "execution_count": 8,
   "id": "f46e5178-948f-45d9-b05b-a0107090b9ac",
   "metadata": {},
   "outputs": [
    {
     "name": "stdout",
     "output_type": "stream",
     "text": [
      "开始计算Barra相关性\n",
      "开始计算RankIC\n",
      "清除ST\n",
      "清除涨跌停\n",
      "获取交易面板完成\n",
      "开始分层回测...\n",
      "开始计算分层超额...\n",
      "结果已经存入D:\\实习\\研报复现\\QuantResearch\\选股因子回测结果\\report\\STR_TurboNeu_W.xlsx\n"
     ]
    }
   ],
   "source": [
    "alpha.to_fctDataBase(STR_Turbo,'STR_TurboNeu')\n",
    "fct = alpha.load_fct('STR_TurboNeu')\n",
    "alpha.Alpha(fct, 'STR_TurboNeu', verbose=True, freq='W', layer=10, rolling_ic=True).main()"
   ]
  },
  {
   "cell_type": "code",
   "execution_count": 9,
   "id": "902fd4ee-1ef7-493a-ad18-047030f30b5f",
   "metadata": {},
   "outputs": [
    {
     "name": "stdout",
     "output_type": "stream",
     "text": [
      "开始计算Barra相关性\n",
      "开始计算RankIC\n",
      "清除ST\n",
      "清除涨跌停\n",
      "获取交易面板完成\n",
      "开始分层回测...\n",
      "开始计算分层超额...\n",
      "结果已经存入D:\\实习\\研报复现\\QuantResearch\\选股因子回测结果\\report\\PctTurn20_TurboNeu_W.xlsx\n"
     ]
    }
   ],
   "source": [
    "alpha.to_fctDataBase(PctTurn20_Turbo,'PctTurn20_TurboNeu')\n",
    "fct = alpha.load_fct('PctTurn20_TurboNeu')\n",
    "alpha.Alpha(fct, 'PctTurn20_TurboNeu', verbose=True, freq='W', layer=10, rolling_ic=True).main()"
   ]
  },
  {
   "cell_type": "code",
   "execution_count": 10,
   "id": "94f7006d-3e64-4b43-8cd0-6caf27d4703c",
   "metadata": {},
   "outputs": [
    {
     "name": "stdout",
     "output_type": "stream",
     "text": [
      "开始计算Barra相关性\n",
      "开始计算RankIC\n",
      "清除ST\n",
      "清除涨跌停\n",
      "获取交易面板完成\n",
      "开始分层回测...\n",
      "开始计算分层超额...\n",
      "结果已经存入D:\\实习\\研报复现\\QuantResearch\\选股因子回测结果\\report\\SCR_TurboNeu_W.xlsx\n"
     ]
    }
   ],
   "source": [
    "alpha.to_fctDataBase(SCR_Turbo,'SCR_TurboNeu')\n",
    "fct = alpha.load_fct('SCR_TurboNeu')\n",
    "alpha.Alpha(fct, 'SCR_TurboNeu', verbose=True, freq='W', layer=10, rolling_ic=True).main()"
   ]
  },
  {
   "cell_type": "markdown",
   "id": "f7c6b323-79fc-414a-9003-24d3bb88599d",
   "metadata": {
    "jp-MarkdownHeadingCollapsed": true,
    "tags": []
   },
   "source": [
    "# 纯净相加"
   ]
  },
  {
   "cell_type": "code",
   "execution_count": 11,
   "id": "1a8a5d71-5a5c-46ec-9350-5e1074b685e9",
   "metadata": {
    "tags": []
   },
   "outputs": [],
   "source": [
    "tnvpctchange = turnover.sub(turnover.shift(1),axis=0).div(turnover.shift(1)+1e-6,axis=0).dropna(axis=0,how='all')"
   ]
  },
  {
   "cell_type": "code",
   "execution_count": 12,
   "id": "d38784f1-986f-4a3c-a81c-6894f7b6d637",
   "metadata": {
    "tags": []
   },
   "outputs": [
    {
     "name": "stderr",
     "output_type": "stream",
     "text": [
      "100%|█████████████████████████████████████████████████████████████████████████████| 3702/3702 [00:10<00:00, 357.13it/s]\n"
     ]
    }
   ],
   "source": [
    "res = []\n",
    "for idx in tqdm(tnvpctchange.index):\n",
    "    temp = pd.concat([turnover.loc[idx],tnvpctchange.loc[idx]],axis=1).dropna()\n",
    "\n",
    "    X = temp.iloc[:,1:]\n",
    "    X = sm.add_constant(X)\n",
    "    y = temp.iloc[:,0]\n",
    "\n",
    "    # 创建模型\n",
    "    model = sm.OLS(y, X)\n",
    "\n",
    "    # 拟合模型\n",
    "    results = model.fit()\n",
    "\n",
    "    res.append(results.resid)\n",
    "\n",
    "pureTnv = pd.concat(res,axis=1).T\n",
    "pureTnv.index = tnvpctchange.index"
   ]
  },
  {
   "cell_type": "code",
   "execution_count": 14,
   "id": "8811bc4b-7e9c-46e6-bffb-c0b7131f95c4",
   "metadata": {
    "tags": []
   },
   "outputs": [
    {
     "name": "stderr",
     "output_type": "stream",
     "text": [
      "100%|█████████████████████████████████████████████████████████████████████████████| 3702/3702 [00:10<00:00, 355.18it/s]\n"
     ]
    }
   ],
   "source": [
    "res = []\n",
    "for idx in tqdm(tnvpctchange.index):\n",
    "    temp = pd.concat([tnvpctchange.loc[idx],turnover.loc[idx]],axis=1).dropna()\n",
    "\n",
    "    X = temp.iloc[:,1:]\n",
    "    X = sm.add_constant(X)\n",
    "    y = temp.iloc[:,0]\n",
    "\n",
    "    # 创建模型\n",
    "    model = sm.OLS(y, X)\n",
    "\n",
    "    # 拟合模型\n",
    "    results = model.fit()\n",
    "\n",
    "    res.append(results.resid)\n",
    "\n",
    "pureTnvpct = pd.concat(res,axis=1).T\n",
    "pureTnvpct.index = tnvpctchange.index"
   ]
  },
  {
   "cell_type": "code",
   "execution_count": 15,
   "id": "4be641db-3268-4537-b0a6-5066404ff6b6",
   "metadata": {
    "tags": []
   },
   "outputs": [
    {
     "name": "stderr",
     "output_type": "stream",
     "text": [
      "100%|██████████████████████████████████████████████████████████████████████████████| 3683/3683 [01:05<00:00, 55.91it/s]\n",
      "100%|██████████████████████████████████████████████████████████████████████████████| 3683/3683 [01:15<00:00, 48.91it/s]\n"
     ]
    }
   ],
   "source": [
    "TPS_Turbo = alpha.zscore(alpha.mvind_neutral(pureTnv.rolling(20).mean().dropna(axis=0,how='all')))+\\\n",
    "alpha.zscore(alpha.mvind_neutral(pureTnvpct.rolling(20).std().dropna(axis=0,how='all')))"
   ]
  },
  {
   "cell_type": "code",
   "execution_count": 16,
   "id": "41ca5b82-0ef5-4a32-9247-4e73bd02a676",
   "metadata": {
    "tags": []
   },
   "outputs": [
    {
     "name": "stderr",
     "output_type": "stream",
     "text": [
      "100%|██████████████████████████████████████████████████████████████████████████████| 3683/3683 [01:13<00:00, 49.81it/s]\n",
      "100%|██████████████████████████████████████████████████████████████████████████████| 3683/3683 [01:16<00:00, 48.40it/s]\n"
     ]
    }
   ],
   "source": [
    "SPS_Turbo = alpha.zscore(alpha.mvind_neutral(pureTnv.rolling(20).std().dropna(axis=0,how='all')))+\\\n",
    "alpha.zscore(alpha.mvind_neutral(pureTnvpct.rolling(20).std().dropna(axis=0,how='all')))"
   ]
  },
  {
   "cell_type": "code",
   "execution_count": 17,
   "id": "f172770a-6b62-4c20-b384-9ae09572bd1d",
   "metadata": {},
   "outputs": [
    {
     "name": "stdout",
     "output_type": "stream",
     "text": [
      "开始计算Barra相关性\n",
      "开始计算RankIC\n",
      "清除ST\n",
      "清除涨跌停\n",
      "获取交易面板完成\n",
      "开始分层回测...\n",
      "开始计算分层超额...\n",
      "结果已经存入D:\\实习\\研报复现\\QuantResearch\\选股因子回测结果\\report\\TPS_Turbo_W.xlsx\n"
     ]
    }
   ],
   "source": [
    "alpha.to_fctDataBase(TPS_Turbo,'TPS_Turbo')\n",
    "fct = alpha.load_fct('TPS_Turbo')\n",
    "alpha.Alpha(fct, 'TPS_Turbo', verbose=True, freq='W', layer=10, rolling_ic=True).main()"
   ]
  },
  {
   "cell_type": "code",
   "execution_count": 19,
   "id": "dd61c46d-7884-4f65-99e3-930362d97ac3",
   "metadata": {},
   "outputs": [
    {
     "name": "stdout",
     "output_type": "stream",
     "text": [
      "开始计算Barra相关性\n",
      "开始计算RankIC\n",
      "清除ST\n",
      "清除涨跌停\n",
      "获取交易面板完成\n",
      "开始分层回测...\n",
      "开始计算分层超额...\n",
      "结果已经存入D:\\实习\\研报复现\\QuantResearch\\选股因子回测结果\\report\\SPS_Turbo_W.xlsx\n"
     ]
    }
   ],
   "source": [
    "alpha.to_fctDataBase(SPS_Turbo,'SPS_Turbo')\n",
    "fct = alpha.load_fct('SPS_Turbo')\n",
    "alpha.Alpha(fct, 'SPS_Turbo', verbose=True, freq='W', layer=10, rolling_ic=True).main()"
   ]
  },
  {
   "cell_type": "code",
   "execution_count": null,
   "id": "62c08480-5374-4aac-9823-9b54849aef71",
   "metadata": {},
   "outputs": [],
   "source": []
  }
 ],
 "metadata": {
  "kernelspec": {
   "display_name": "Python 3 (ipykernel)",
   "language": "python",
   "name": "python3"
  },
  "language_info": {
   "codemirror_mode": {
    "name": "ipython",
    "version": 3
   },
   "file_extension": ".py",
   "mimetype": "text/x-python",
   "name": "python",
   "nbconvert_exporter": "python",
   "pygments_lexer": "ipython3",
   "version": "3.11.7"
  }
 },
 "nbformat": 4,
 "nbformat_minor": 5
}
