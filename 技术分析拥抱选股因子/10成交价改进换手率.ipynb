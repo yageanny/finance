{
 "cells": [
  {
   "cell_type": "code",
   "execution_count": 4,
   "id": "04abbc01-70bd-41a7-9db8-a20bf21adc3e",
   "metadata": {},
   "outputs": [],
   "source": [
    "import os\n",
    "import sys\n",
    "sys.path.append('D:\\实习\\研报复现\\QuantDev\\ymtool')\n",
    "import numpy as np\n",
    "import pandas as pd\n",
    "from tqdm import tqdm\n",
    "import statsmodels.api as sm\n",
    "\n",
    "import Alpha as alpha"
   ]
  },
  {
   "cell_type": "code",
   "execution_count": 5,
   "id": "38ea1902-0ca1-41f9-8292-d18defd018a0",
   "metadata": {
    "tags": []
   },
   "outputs": [],
   "source": [
    "close = alpha.load_data('pv\\\\stock_close')\n",
    "low = alpha.load_data('pv\\\\stock_low')\n",
    "high = alpha.load_data('pv\\\\stock_high')\n",
    "\n",
    "PLUS = (2*close-high-low).div(close.shift(1),axis=0).dropna(axis=0,how='all')\n",
    "\n",
    "turnover = alpha.load_data('pv\\\\stock_turnover').replace(0,np.nan)"
   ]
  },
  {
   "cell_type": "code",
   "execution_count": 10,
   "id": "6260ecb7-ad8d-436b-8f00-685ecb6a676b",
   "metadata": {
    "tags": []
   },
   "outputs": [],
   "source": [
    "def nonneg(fct):\n",
    "    min_val = fct.min(axis=1)\n",
    "    nonneg_fct = fct.sub(min_val,axis=0)\n",
    "    return nonneg_fct\n",
    "\n",
    "def neutral(fct1,fct2):\n",
    "    res = []\n",
    "    for idx in tqdm(fct1.index):\n",
    "        temp = pd.concat([fct1.loc[idx],fct2.loc[idx]],axis=1).dropna()\n",
    "\n",
    "        X = temp.iloc[:,1:]\n",
    "        X = sm.add_constant(X)\n",
    "        y = temp.iloc[:,0]\n",
    "\n",
    "        # 创建模型\n",
    "        model = sm.OLS(y, X)\n",
    "\n",
    "        # 拟合模型\n",
    "        try:\n",
    "            results = model.fit()\n",
    "        except:\n",
    "            print(idx)\n",
    "            break\n",
    "        res.append(results.resid)\n",
    "\n",
    "    fctNeu = alpha.zscore(pd.concat(res,axis=1).T)\n",
    "    fctNeu.index = fct1.index\n",
    "    return fctNeu"
   ]
  },
  {
   "cell_type": "code",
   "execution_count": 11,
   "id": "edfc2261-1bb6-4157-aa96-b21b0539c411",
   "metadata": {
    "tags": []
   },
   "outputs": [
    {
     "name": "stderr",
     "output_type": "stream",
     "text": [
      "100%|█████████████████████████████████████████████████████████████████████████████| 3702/3702 [00:13<00:00, 283.41it/s]\n",
      "100%|██████████████████████████████████████████████████████████████████████████████| 3702/3702 [00:39<00:00, 92.77it/s]\n"
     ]
    }
   ],
   "source": [
    "Turn_dePLUS = neutral(turnover.iloc[1:],PLUS.replace([np.inf,-np.inf],np.nan))\n",
    "Turn20_dePLUS = Turn_dePLUS.rolling(20,min_periods=1).mean().dropna(axis=0,how='all').iloc[19:]\n",
    "STR_dePLUS =Turn_dePLUS.rolling(20,min_periods=1).std().dropna(axis=0,how='all').iloc[19:]\n",
    "\n",
    "PLUS_deTurn = neutral(PLUS,turnover)\n",
    "PLUS_deTurn20 = PLUS_deTurn.rolling(20,min_periods=1).mean().dropna(axis=0,how='all').iloc[19:]\n",
    "\n",
    "\n",
    "TPS = nonneg(alpha.zscore(Turn20_dePLUS)).mul(nonneg(alpha.zscore(PLUS_deTurn20)),axis=0)\n",
    "\n",
    "SPS = nonneg(alpha.zscore(STR_dePLUS)).mul(nonneg(alpha.zscore(PLUS_deTurn20)),axis=0)"
   ]
  },
  {
   "cell_type": "code",
   "execution_count": 13,
   "id": "c6ad3525-e253-4938-b3f2-ea197d966661",
   "metadata": {
    "tags": []
   },
   "outputs": [
    {
     "name": "stderr",
     "output_type": "stream",
     "text": [
      "100%|██████████████████████████████████████████████████████████████████████████████| 3683/3683 [00:58<00:00, 63.33it/s]\n"
     ]
    }
   ],
   "source": [
    "TPSNeu = alpha.mvind_neutral(TPS.dropna(axis=0,how='all'))"
   ]
  },
  {
   "cell_type": "code",
   "execution_count": 14,
   "id": "bf0dc617-a6be-4fd0-a86b-bed24fa868b9",
   "metadata": {
    "tags": []
   },
   "outputs": [
    {
     "name": "stderr",
     "output_type": "stream",
     "text": [
      "100%|██████████████████████████████████████████████████████████████████████████████| 3682/3682 [00:51<00:00, 72.10it/s]\n"
     ]
    }
   ],
   "source": [
    "SPSNeu = alpha.mvind_neutral(SPS.dropna(axis=0,how='all'))"
   ]
  },
  {
   "cell_type": "code",
   "execution_count": 15,
   "id": "20f51901-1dd5-4c8f-b7fa-cd44eef129a3",
   "metadata": {
    "tags": []
   },
   "outputs": [
    {
     "name": "stdout",
     "output_type": "stream",
     "text": [
      "开始计算Barra相关性\n",
      "开始计算RankIC\n",
      "清除ST\n",
      "清除涨跌停\n",
      "获取交易面板完成\n",
      "开始分层回测...\n",
      "开始计算分层超额...\n",
      "结果已经存入D:\\实习\\研报复现\\QuantResearch\\选股因子回测结果\\report\\TPSNeu_W.xlsx\n"
     ]
    }
   ],
   "source": [
    "alpha.to_fctDataBase(TPSNeu,'TPSNeu')\n",
    "fct = alpha.load_fct('TPSNeu')\n",
    "alpha.Alpha(fct, 'TPSNeu', verbose=True, freq='W', layer=10, rolling_ic=True).main()"
   ]
  },
  {
   "cell_type": "code",
   "execution_count": 16,
   "id": "092132b1-a6e4-4f23-9edf-5bef5f821402",
   "metadata": {
    "tags": []
   },
   "outputs": [
    {
     "name": "stdout",
     "output_type": "stream",
     "text": [
      "开始计算Barra相关性\n",
      "开始计算RankIC\n",
      "清除ST\n",
      "清除涨跌停\n",
      "获取交易面板完成\n",
      "开始分层回测...\n",
      "开始计算分层超额...\n",
      "结果已经存入D:\\实习\\研报复现\\QuantResearch\\选股因子回测结果\\report\\SPSNeu_W.xlsx\n"
     ]
    }
   ],
   "source": [
    "alpha.to_fctDataBase(SPSNeu,'SPSNeu')\n",
    "fct = alpha.load_fct('SPSNeu')\n",
    "alpha.Alpha(fct, 'SPSNeu', verbose=True, freq='W', layer=10, rolling_ic=True).main()"
   ]
  }
 ],
 "metadata": {
  "kernelspec": {
   "display_name": "Python 3 (ipykernel)",
   "language": "python",
   "name": "python3"
  },
  "language_info": {
   "codemirror_mode": {
    "name": "ipython",
    "version": 3
   },
   "file_extension": ".py",
   "mimetype": "text/x-python",
   "name": "python",
   "nbconvert_exporter": "python",
   "pygments_lexer": "ipython3",
   "version": "3.11.7"
  }
 },
 "nbformat": 4,
 "nbformat_minor": 5
}
