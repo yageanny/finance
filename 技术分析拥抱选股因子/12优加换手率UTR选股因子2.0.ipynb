{
 "cells": [
  {
   "cell_type": "code",
   "execution_count": 1,
   "id": "67d95222-7c1f-4383-a97c-00c7a5fd34b4",
   "metadata": {
    "tags": []
   },
   "outputs": [],
   "source": [
    "import os\n",
    "import sys\n",
    "sys.path.append('D:\\实习\\研报复现\\QuantDev\\ymtool')\n",
    "import numpy as np\n",
    "import pandas as pd\n",
    "from tqdm import tqdm\n",
    "import statsmodels.api as sm\n",
    "\n",
    "import Alpha as alpha"
   ]
  },
  {
   "cell_type": "code",
   "execution_count": 2,
   "id": "b099167f-ae58-4d7c-ade9-417c0bde48e1",
   "metadata": {
    "tags": []
   },
   "outputs": [
    {
     "name": "stderr",
     "output_type": "stream",
     "text": [
      "100%|██████████████████████████████████████████████████████████████████████████████| 3684/3684 [00:46<00:00, 78.61it/s]\n",
      "100%|██████████████████████████████████████████████████████████████████████████████| 3684/3684 [00:47<00:00, 77.36it/s]\n"
     ]
    }
   ],
   "source": [
    "turnover = alpha.load_data('pv\\\\stock_turnover').replace(0,np.nan)\n",
    "\n",
    "Turn20 = alpha.mvind_neutral(turnover.rolling(20).mean().dropna(axis=0,how='all'))\n",
    "\n",
    "STR = alpha.mvind_neutral(turnover.rolling(20).std().dropna(axis=0,how='all'))\n",
    "\n",
    "UTR2 = -(STR+STR.div(1+abs(STR),axis=0).mul(Turn20,axis=0))"
   ]
  },
  {
   "cell_type": "code",
   "execution_count": 3,
   "id": "1e927888-bc9d-4e7b-a979-169aa8bdb786",
   "metadata": {},
   "outputs": [
    {
     "name": "stdout",
     "output_type": "stream",
     "text": [
      "开始计算Barra相关性\n",
      "开始计算RankIC\n",
      "清除ST\n",
      "清除涨跌停\n",
      "获取交易面板完成\n",
      "开始分层回测...\n",
      "开始计算分层超额...\n",
      "结果已经存入D:\\实习\\研报复现\\QuantResearch\\选股因子回测结果\\report\\UTR2_W.xlsx\n"
     ]
    }
   ],
   "source": [
    "alpha.to_fctDataBase(UTR2,'UTR2')\n",
    "fct = alpha.load_fct('UTR2')\n",
    "alpha.Alpha(fct, 'UTR2', verbose=True, freq='W', layer=10, rolling_ic=True).main()"
   ]
  },
  {
   "cell_type": "code",
   "execution_count": null,
   "id": "59881ac5-b28e-4536-b511-99452af22e16",
   "metadata": {},
   "outputs": [],
   "source": []
  }
 ],
 "metadata": {
  "kernelspec": {
   "display_name": "Python 3 (ipykernel)",
   "language": "python",
   "name": "python3"
  },
  "language_info": {
   "codemirror_mode": {
    "name": "ipython",
    "version": 3
   },
   "file_extension": ".py",
   "mimetype": "text/x-python",
   "name": "python",
   "nbconvert_exporter": "python",
   "pygments_lexer": "ipython3",
   "version": "3.11.7"
  }
 },
 "nbformat": 4,
 "nbformat_minor": 5
}
