{
 "cells": [
  {
   "cell_type": "code",
   "execution_count": 5,
   "id": "1f84f2da-a615-4352-9eea-027a120a3e70",
   "metadata": {
    "tags": []
   },
   "outputs": [],
   "source": [
    "import os\n",
    "import sys\n",
    "sys.path.append('D:\\实习\\研报复现\\QuantDev\\ymtool')\n",
    "import numpy as np\n",
    "import pandas as pd\n",
    "import Alpha as alpha"
   ]
  },
  {
   "cell_type": "code",
   "execution_count": 7,
   "id": "6a8a718c-161f-415a-89fe-a80d863ed1a2",
   "metadata": {
    "tags": []
   },
   "outputs": [
    {
     "name": "stderr",
     "output_type": "stream",
     "text": [
      "100%|██████████████████████████████████████████████████████████████████████████████| 3664/3664 [00:47<00:00, 77.74it/s]\n",
      "100%|██████████████████████████████████████████████████████████████████████████████| 3702/3702 [00:48<00:00, 76.38it/s]\n"
     ]
    }
   ],
   "source": [
    "turnover = alpha.load_data('pv\\\\stock_turnover').replace(0,np.nan)\n",
    "\n",
    "baseTNV = turnover.rolling(40,min_periods=1).mean().shift(20).dropna(axis=0,how='all')\n",
    "PctTurn = -alpha.mvind_neutral((turnover.div(baseTNV,axis=0)-1).rolling(20).mean().dropna(axis=0,how='all')).iloc[19:]\n",
    "\n",
    "STR = -alpha.mvind_neutral(turnover.rolling(20,min_periods=1).std().dropna(axis=0,how='all')).iloc[19:]"
   ]
  },
  {
   "cell_type": "code",
   "execution_count": 8,
   "id": "6ee71fa4-5c38-414a-a07d-531c385222a5",
   "metadata": {},
   "outputs": [
    {
     "name": "stdout",
     "output_type": "stream",
     "text": [
      "开始计算Barra相关性\n",
      "开始计算RankIC\n",
      "清除ST\n",
      "清除涨跌停\n",
      "获取交易面板完成\n",
      "开始分层回测...\n",
      "开始计算分层超额...\n",
      "结果已经存入D:\\实习\\研报复现\\QuantResearch\\选股因子回测结果\\report\\STR_W.xlsx\n"
     ]
    }
   ],
   "source": [
    "alpha.to_fctDataBase(STR,'STR')\n",
    "fct = alpha.load_fct('STR')\n",
    "alpha.Alpha(fct, 'STR', verbose=True, freq='W', layer=10, rolling_ic=True).main()"
   ]
  }
 ],
 "metadata": {
  "kernelspec": {
   "display_name": "Python 3 (ipykernel)",
   "language": "python",
   "name": "python3"
  },
  "language_info": {
   "codemirror_mode": {
    "name": "ipython",
    "version": 3
   },
   "file_extension": ".py",
   "mimetype": "text/x-python",
   "name": "python",
   "nbconvert_exporter": "python",
   "pygments_lexer": "ipython3",
   "version": "3.11.7"
  }
 },
 "nbformat": 4,
 "nbformat_minor": 5
}
